{
 "cells": [
  {
   "cell_type": "markdown",
   "id": "2d4b1b4e-eac5-4a47-9b95-92d3ac5bf46d",
   "metadata": {},
   "source": [
    "# 1.WAP to accept two numbers from the user and display their sum"
   ]
  },
  {
   "cell_type": "code",
   "execution_count": 1,
   "id": "484234c7-edfe-4d92-a7d9-cbccf84dac67",
   "metadata": {},
   "outputs": [
    {
     "name": "stdin",
     "output_type": "stream",
     "text": [
      "Enter 1st no:  1\n",
      "Enter 2nd no:  1\n"
     ]
    },
    {
     "name": "stdout",
     "output_type": "stream",
     "text": [
      "sum is : 2\n"
     ]
    }
   ],
   "source": [
    "a=int(input(\"Enter 1st no: \"))\n",
    "b=int(input(\"Enter 2nd no: \") ) \n",
    "c=a+b\n",
    "print(\"sum is :\",c)"
   ]
  },
  {
   "cell_type": "markdown",
   "id": "d6564956-a764-40af-8334-6ca623689c46",
   "metadata": {},
   "source": [
    "# 2.WAP to accept radius of a Circle from the user and calculate area and circumference"
   ]
  },
  {
   "cell_type": "code",
   "execution_count": 2,
   "id": "240170e8-e552-4980-becc-be16d6f35f50",
   "metadata": {},
   "outputs": [
    {
     "name": "stdin",
     "output_type": "stream",
     "text": [
      "Enter radius :  8\n"
     ]
    },
    {
     "name": "stdout",
     "output_type": "stream",
     "text": [
      "Area of the cicle is: 200.96\n"
     ]
    }
   ],
   "source": [
    "r=int(input(\"Enter radius : \"))\n",
    "a=3.14*r*r\n",
    "print(\"Area of the cicle is:\",a)"
   ]
  },
  {
   "cell_type": "markdown",
   "id": "296b1929-78ce-4df4-b3d3-2fc4ac0d8b34",
   "metadata": {},
   "source": [
    "# 3.WAP to accept roll number,grade and percentage as input from user and display them back"
   ]
  },
  {
   "cell_type": "code",
   "execution_count": 18,
   "id": "3e9f3272-4ccd-4b40-b845-4c38b58d9f96",
   "metadata": {},
   "outputs": [
    {
     "name": "stdin",
     "output_type": "stream",
     "text": [
      "Enter the roll number:  7\n",
      "Enter the grade:  9\n"
     ]
    },
    {
     "name": "stdout",
     "output_type": "stream",
     "text": [
      "The grade is:\n"
     ]
    },
    {
     "name": "stdin",
     "output_type": "stream",
     "text": [
      "Enter the percentage:  22\n"
     ]
    },
    {
     "name": "stdout",
     "output_type": "stream",
     "text": [
      "7 9 22\n"
     ]
    }
   ],
   "source": [
    "roll_no = int(input(\"Enter the roll number: \"))\n",
    "grade = str(input(\"Enter the grade: \"))\n",
    "Perc = int(input(\"Enter the percentage: \"))\n",
    "print(roll_no, grade, Perc)\n"
   ]
  },
  {
   "cell_type": "markdown",
   "id": "60513238-30c7-423b-9e30-724899cf0db8",
   "metadata": {},
   "source": [
    "# 4.Write a program that asks the user to enter his/her name and age. Print out a message , displaying the user’s name along with the year in which they will turn 100 years old.\n"
   ]
  },
  {
   "cell_type": "code",
   "execution_count": 4,
   "id": "40179249-853e-4a98-a76d-1f885d96a3b9",
   "metadata": {},
   "outputs": [
    {
     "name": "stdin",
     "output_type": "stream",
     "text": [
      "Enter your name:   nnn\n",
      "Enter your age:  1\n"
     ]
    },
    {
     "name": "stdout",
     "output_type": "stream",
     "text": [
      "name 2121\n"
     ]
    }
   ],
   "source": [
    "a=input(\"Enter your name:  \")\n",
    "b=int(input(\"Enter your age: \"))\n",
    "c=100-b\n",
    "currentyear=2022\n",
    "x=currentyear+c\n",
    "print(\"name\",x)"
   ]
  },
  {
   "cell_type": "markdown",
   "id": "ac8eee1c-8901-42bf-bb6a-26a8b55ae7c0",
   "metadata": {},
   "source": [
    "# 5.Write a program that asks the user to input 2 integers and adds them . Accept both the numbers in a single line only"
   ]
  },
  {
   "cell_type": "code",
   "execution_count": 7,
   "id": "7752de97-d00d-44c5-934f-1de87367665d",
   "metadata": {},
   "outputs": [
    {
     "name": "stdout",
     "output_type": "stream",
     "text": [
      "Enter  the value of a & b\n"
     ]
    },
    {
     "name": "stdin",
     "output_type": "stream",
     "text": [
      " 1 2\n"
     ]
    },
    {
     "name": "stdout",
     "output_type": "stream",
     "text": [
      "The sum is  3\n"
     ]
    }
   ],
   "source": [
    "print(\"Enter  the value of a & b\")\n",
    "a,b = map(int, input().split())\n",
    "c=a+b\n",
    "print(\"The sum is \",c)"
   ]
  },
  {
   "cell_type": "markdown",
   "id": "cad99bd9-3dbd-4380-aa72-a36ddade0e20",
   "metadata": {},
   "source": [
    "\n",
    "# 6. Write a Python program which accepts the user's first and last name and print them in reverse order with a space between them.\n"
   ]
  },
  {
   "cell_type": "code",
   "execution_count": 10,
   "id": "8914b7a7-9076-4240-90db-2ade3a8b52c9",
   "metadata": {},
   "outputs": [
    {
     "name": "stdin",
     "output_type": "stream",
     "text": [
      "enter first  name: qqq\n",
      "enter last name:  qqq\n"
     ]
    },
    {
     "data": {
      "text/plain": [
       "'qqq qqq'"
      ]
     },
     "execution_count": 10,
     "metadata": {},
     "output_type": "execute_result"
    }
   ],
   "source": [
    "a=input(\"enter first  name:\")\n",
    "b=input(\"enter last name: \")\n",
    "c=a+' '+b\n",
    "c[::-1]"
   ]
  },
  {
   "cell_type": "markdown",
   "id": "5c523854-5f71-4087-a520-6fdceadfe1aa",
   "metadata": {},
   "source": [
    " # 7.WAP to accept an integer from the user and check whether it is an even or odd"
   ]
  },
  {
   "cell_type": "code",
   "execution_count": 11,
   "id": "d259a2f5-53dc-42de-b285-5bfa78e6246f",
   "metadata": {},
   "outputs": [
    {
     "name": "stdin",
     "output_type": "stream",
     "text": [
      "Enter the number: 23\n"
     ]
    },
    {
     "name": "stdout",
     "output_type": "stream",
     "text": [
      "The number is odd\n"
     ]
    }
   ],
   "source": [
    "a=int(input(\"Enter the number:\"))\n",
    "if a%2==0:\n",
    "    print(\"The number is even\")\n",
    "else:\n",
    "    print(\"The number is odd\")\n"
   ]
  },
  {
   "cell_type": "markdown",
   "id": "d7f8e6d6-0241-45ed-a0b1-314f4d66ebfc",
   "metadata": {},
   "source": [
    "# 8.WAP to accept a character from the user and check whether it is a capital letter or small letter. Assume user will input only alphabets"
   ]
  },
  {
   "cell_type": "code",
   "execution_count": 2,
   "id": "75877f7b-8b2f-4e91-ac73-3bdfb990016a",
   "metadata": {},
   "outputs": [
    {
     "name": "stdin",
     "output_type": "stream",
     "text": [
      "Enter input aaa\n"
     ]
    },
    {
     "name": "stdout",
     "output_type": "stream",
     "text": [
      "lower case\n"
     ]
    }
   ],
   "source": [
    "ch=input(\"Enter input\")\n",
    "if \"A\"<=ch[0]<=\"Z\":\n",
    "    print(\"Upper case\")\n",
    "else:\n",
    "    print(\"lower case\")"
   ]
  },
  {
   "cell_type": "markdown",
   "id": "f9da7cbc-7151-4d41-a24a-12224d49e09d",
   "metadata": {},
   "source": [
    " # 9.WAP to accept a character from the user and check whether it is a capital letter or small letter or a digit or some special symbol"
   ]
  },
  {
   "cell_type": "code",
   "execution_count": 3,
   "id": "e4104286-31f0-4cfc-8cab-34e127f831a6",
   "metadata": {},
   "outputs": [
    {
     "name": "stdin",
     "output_type": "stream",
     "text": [
      "Enter input aaa\n"
     ]
    },
    {
     "name": "stdout",
     "output_type": "stream",
     "text": [
      "Character is small alphabet\n"
     ]
    }
   ],
   "source": [
    "ch=input(\"Enter input\")\n",
    "if( ch.isupper()):\n",
    "        print(\"Character is Capital alphabet\")\n",
    "elif(ch.islower()):\n",
    "        print(\"Character is small alphabet\")\n",
    "elif (ch>=\"0\" and ch<=\"9\"):\n",
    "    print(\"cHaracter  is digit\")\n",
    "else:\n",
    "    print(\"Character is special character\")"
   ]
  },
  {
   "cell_type": "markdown",
   "id": "f2445c0b-a77f-4865-b138-be0e6fc56172",
   "metadata": {},
   "source": [
    "# 10.WAP to accept 3 integers from the user and without using any logical operator and cascading of relational operators , find out the greatest number amongst them"
   ]
  },
  {
   "cell_type": "code",
   "execution_count": 6,
   "id": "c330337f-1024-4f3b-95dd-fff90c8175bc",
   "metadata": {},
   "outputs": [
    {
     "name": "stdin",
     "output_type": "stream",
     "text": [
      "Enter 1st number: 1\n",
      "Enter 2nd number: 2\n",
      "Enter 3rd number: 3\n"
     ]
    }
   ],
   "source": [
    "x=int(input(\"Enter 1st number:\"))\n",
    "y=int(input(\"Enter 2nd number:\"))\n",
    "z=int(input(\"Enter 3rd number:\"))\n",
    "if x>y:\n",
    "    if x>z:\n",
    "        print(\"First number is greater\")\n",
    "elif  y>x:\n",
    "    if y>z:\n",
    "        print(\"Second number is greater\")\n",
    "else:\n",
    "    print(\"Third number is greater\")\n",
    "    return greater"
   ]
  },
  {
   "cell_type": "code",
   "execution_count": 7,
   "id": "a6c4207b-bb1d-4411-beda-ba2857b1ddc6",
   "metadata": {},
   "outputs": [],
   "source": [
    "def maximum(a,b,c):\n",
    "    if (a>=b) and (a>=c):\n",
    "        largest=a\n",
    "    elif (b>=a) and(b>=c):\n",
    "        largest=b\n",
    "    else:\n",
    "        largest=c\n",
    "    return largest"
   ]
  },
  {
   "cell_type": "code",
   "execution_count": 8,
   "id": "6cc06806-9181-4eb9-a913-5d85a83f5aab",
   "metadata": {},
   "outputs": [
    {
     "data": {
      "text/plain": [
       "4"
      ]
     },
     "execution_count": 8,
     "metadata": {},
     "output_type": "execute_result"
    }
   ],
   "source": [
    "maximum(2,3,4)"
   ]
  },
  {
   "cell_type": "markdown",
   "id": "de085035-3cc8-45b3-8d4c-281bb1d231e3",
   "metadata": {},
   "source": [
    "# 11.WAP to accept a year from the user and check whether it is a leap year or not. An year is a leap year if: It is exactly divisible by 4 and at the same time not divisible by 100 OR It is divisible by 400 For example: 2017 is not a leap year 2012 is a leap year 1900 is a not leap year 2000 is a leap year"
   ]
  },
  {
   "cell_type": "code",
   "execution_count": 34,
   "id": "1f8a5779-66cb-43fc-8bcf-fb8ee85e46b0",
   "metadata": {},
   "outputs": [
    {
     "name": "stdin",
     "output_type": "stream",
     "text": [
      "Enter the year: 1900\n"
     ]
    },
    {
     "name": "stdout",
     "output_type": "stream",
     "text": [
      "The year 1900 is not a leap year\n"
     ]
    }
   ],
   "source": [
    "year=int(input(\"Enter the year:\"))\n",
    "if ( year%400==0):\n",
    "    print(\"The year\",year,\"is a leap year\")\n",
    "elif (year%4==0 )and (year%100!=0):\n",
    "    print(\"The  year\",year,\"is a leap year\")\n",
    "else:\n",
    "    print(\"The year\",year,\"is not a leap year\")"
   ]
  },
  {
   "cell_type": "markdown",
   "id": "26449ac7-a692-4ca4-8380-02ede5a22dea",
   "metadata": {},
   "source": [
    "# 12.You have to develop a number guessing game. Following are the steps needed:\n",
    "\n",
    "● At first , the program will generate a random integer secretly.\n",
    "\n",
    "● Now it will ask the user to guess that number .\n",
    "\n",
    "● If the user guessed it correctly then the program prints “Congratulations! You guessed it right” .\n",
    "\n",
    "● But if the number guessed by the user is larger than the secret number then program should print “Number too large” and , if the number guessed by the user is smaller than the secret number then the program should print “Number too small”\n",
    "\n",
    "● This should continue until the user guesses the number correctly or quits .\n",
    "\n",
    "● If the user wants to quit in between he will have to type 0 or negative number"
   ]
  },
  {
   "cell_type": "code",
   "execution_count": 3,
   "id": "a70b5f3b-3e91-49fa-b4be-171a613c0dd6",
   "metadata": {},
   "outputs": [
    {
     "name": "stdout",
     "output_type": "stream",
     "text": [
      "3\n"
     ]
    },
    {
     "name": "stdin",
     "output_type": "stream",
     "text": [
      "Guess a number:  2\n"
     ]
    },
    {
     "name": "stdout",
     "output_type": "stream",
     "text": [
      "Number too small\n"
     ]
    },
    {
     "name": "stdin",
     "output_type": "stream",
     "text": [
      "Guess a number  4\n"
     ]
    },
    {
     "name": "stdout",
     "output_type": "stream",
     "text": [
      "Number too large\n"
     ]
    },
    {
     "name": "stdin",
     "output_type": "stream",
     "text": [
      "Guess a number  -1\n"
     ]
    },
    {
     "name": "stdout",
     "output_type": "stream",
     "text": [
      "You quit the game!\n"
     ]
    }
   ],
   "source": [
    "import random\n",
    "secret_num = random.randint(0,100)\n",
    "print(secret_num)\n",
    "guess = int(input(\"Guess a number: \"))\n",
    "while guess != secret_num:\n",
    "    if guess <= 0 :\n",
    "        print(\"You quit the game!\")\n",
    "        break\n",
    "    elif guess > secret_num:\n",
    "        print(\"Number too large\")\n",
    "    elif guess < secret_num:\n",
    "        print(\"Number too small\")\n",
    "    guess = int(input(\"Guess a number \"))\n",
    "\n",
    "if guess == secret_num:\n",
    "    print(\"Congratulations! You guessed it right\")\n"
   ]
  },
  {
   "cell_type": "markdown",
   "id": "0cd72408-2855-4190-a772-0829c4ab8825",
   "metadata": {},
   "source": [
    "\n",
    "# 13. Write a program to accept a string from the user and display it vertically but don’t display the vowels in it."
   ]
  },
  {
   "cell_type": "code",
   "execution_count": 5,
   "id": "bfbec9f2-7f49-479a-a506-864378424f2b",
   "metadata": {},
   "outputs": [
    {
     "name": "stdin",
     "output_type": "stream",
     "text": [
      "enter name rttiop\n"
     ]
    },
    {
     "name": "stdout",
     "output_type": "stream",
     "text": [
      "r\n",
      "t\n",
      "t\n",
      "p\n"
     ]
    }
   ],
   "source": [
    "name=input(\"enter name\")\n",
    "i=0\n",
    "while i<len(name):\n",
    "    if name[i] in [\"a\",\"e\",\"i\",\"o\",\"u\"]:\n",
    "        pass\n",
    "    else:\n",
    "        print(name[i])\n",
    "    i=i+1    "
   ]
  },
  {
   "cell_type": "markdown",
   "id": "1aabb76e-6530-43d2-a76a-87eb619ecb5c",
   "metadata": {},
   "source": [
    "# 14.\tWrite a program to continuously accept integers from the user until the user types 0 and as soon as 0 is entered display sum of all the nos entered before 0"
   ]
  },
  {
   "cell_type": "code",
   "execution_count": 20,
   "id": "8ab20f97-7df6-412f-9e1a-50c139fa135b",
   "metadata": {},
   "outputs": [
    {
     "name": "stdout",
     "output_type": "stream",
     "text": [
      "Input some integers to calculate their sum and average. Input 0 to exit.\n"
     ]
    },
    {
     "name": "stdin",
     "output_type": "stream",
     "text": [
      " 0\n"
     ]
    },
    {
     "name": "stdout",
     "output_type": "stream",
     "text": [
      "Sum of all entered number:  0.0\n"
     ]
    }
   ],
   "source": [
    "print(\"Input some integers to calculate their sum and average. Input 0 to exit.\")\n",
    "count = 0\n",
    "sum = 0.0\n",
    "num = 1\n",
    "while num != 0:\n",
    "\tnum = int(input(\"\"))\n",
    "\tsum = sum + num\n",
    "\tcount += 1\n",
    "print(\"Sum of all entered number: \",  sum)\n",
    "\t"
   ]
  },
  {
   "cell_type": "markdown",
   "id": "a76bf300-ed2d-4088-a698-b6b1b25cd31b",
   "metadata": {},
   "source": [
    "# 15.\tWrite a program using a for loop to accept a string from the user and display it vertically but don’t display the vowels in it."
   ]
  },
  {
   "cell_type": "code",
   "execution_count": null,
   "id": "9920ca4d-827f-43da-b0e8-a40f6b5ed770",
   "metadata": {},
   "outputs": [],
   "source": [
    "s=input(\"enter any word:\")\n",
    "vowels=['a','e','i','o','u']\n",
    "for i in s:\n",
    "    if i not in vowels:\n",
    "        print(i)"
   ]
  },
  {
   "cell_type": "markdown",
   "id": "aed7f101-9242-4ebf-b0d6-ada801ab5c2e",
   "metadata": {},
   "source": [
    "# 16.●\tWrite a program to accept an integer from the user and display the sum of all the numbers from 1 to that number."
   ]
  },
  {
   "cell_type": "code",
   "execution_count": 4,
   "id": "6d9be393-bea1-4748-9eea-071185c3bb35",
   "metadata": {},
   "outputs": [
    {
     "name": "stdin",
     "output_type": "stream",
     "text": [
      "Number:  5\n"
     ]
    },
    {
     "name": "stdout",
     "output_type": "stream",
     "text": [
      "15\n"
     ]
    }
   ],
   "source": [
    "num = int(input(\"Number: \"))\n",
    "sum = 0\n",
    "for i in range(1, num + 1):\n",
    "    sum += i\n",
    "print(sum)"
   ]
  },
  {
   "cell_type": "markdown",
   "id": "4469d7b1-8331-4cb9-b435-939cfb570abc",
   "metadata": {},
   "source": [
    "# 17.\tWrite a program to accept an integer from the user and calculate its factorial"
   ]
  },
  {
   "cell_type": "code",
   "execution_count": 2,
   "id": "a4d90380-d85e-4a3e-b246-ca967d09f060",
   "metadata": {},
   "outputs": [
    {
     "name": "stdin",
     "output_type": "stream",
     "text": [
      "Enter a number:  3\n"
     ]
    },
    {
     "name": "stdout",
     "output_type": "stream",
     "text": [
      "The factorial of 3 is 6\n"
     ]
    }
   ],
   "source": [
    "n = int(input(\"Enter a number: \"))\n",
    "factorial = 1\n",
    "if n < 0:\n",
    "    print(\"Sorry, factorial does not exist for negative numbers\")\n",
    "elif n == 0:\n",
    "    print(\"The factorial of 0 is 1\")\n",
    "else:\n",
    "    for i in range(1,n+ 1):\n",
    "        factorial = factorial*i\n",
    "    print(\"The factorial of\",n,\"is\",factorial)\n"
   ]
  },
  {
   "cell_type": "markdown",
   "id": "9ca9e046-f3af-4ca2-bda8-aa9027b0fc05",
   "metadata": {},
   "source": [
    "# 18.WAP Bto get square star pattern"
   ]
  },
  {
   "cell_type": "code",
   "execution_count": 5,
   "id": "d8f4b103-6c50-4381-87f2-c1b9a5c5634a",
   "metadata": {},
   "outputs": [
    {
     "name": "stdout",
     "output_type": "stream",
     "text": [
      "* * * \n",
      "* * * \n",
      "* * * \n"
     ]
    }
   ],
   "source": [
    "for i in range(0, 4):  \n",
    "    for j in range(0, 4):  \n",
    "        if j <= i:  \n",
    "            print(\"*\", end=' ')  \n",
    "        else:  \n",
    "            print(\"*\", end=' ')  \n",
    "    print()  "
   ]
  },
  {
   "cell_type": "markdown",
   "id": "d8d12dc5-5695-4968-8afe-5fcfbaee6bde",
   "metadata": {},
   "source": [
    "# 19.WAP to get  triangle pattern"
   ]
  },
  {
   "cell_type": "code",
   "execution_count": 2,
   "id": "2070de33-4864-4285-8e12-5dd2e0e7d65b",
   "metadata": {},
   "outputs": [
    {
     "name": "stdout",
     "output_type": "stream",
     "text": [
      "* \n",
      "\n",
      "* * \n",
      "\n",
      "* * * \n",
      "\n",
      "* * * * \n",
      "\n"
     ]
    }
   ],
   "source": [
    "rows = 4\n",
    "for i in range(0, rows):\n",
    "    for j in range(0, i + 1):\n",
    "        print(\"*\", end=' ')\n",
    "    print(\"\\n\")"
   ]
  },
  {
   "cell_type": "code",
   "execution_count": 7,
   "id": "44ed2aae-4024-4ce0-a19d-a4e7bb3a7220",
   "metadata": {},
   "outputs": [
    {
     "name": "stdout",
     "output_type": "stream",
     "text": [
      "* \n",
      "* * \n",
      "* * * \n",
      "* * * * \n"
     ]
    }
   ],
   "source": [
    "# simple code\n",
    "rows = 4\n",
    "for j in range(1, rows+1):\n",
    "    print(\"* \" * j)\n"
   ]
  },
  {
   "cell_type": "markdown",
   "id": "19475075-7e2e-45c6-95d2-1dda22ee65a9",
   "metadata": {},
   "source": [
    "# 20.WAP to get reverse triangle pattern"
   ]
  },
  {
   "cell_type": "code",
   "execution_count": 13,
   "id": "b5ae8447-462b-4668-a83b-9dcc146f374a",
   "metadata": {},
   "outputs": [
    {
     "name": "stdout",
     "output_type": "stream",
     "text": [
      "* * * * \n",
      " \n",
      "* * * \n",
      " \n",
      "* * \n",
      " \n",
      "* \n",
      " \n",
      "\n",
      " \n"
     ]
    }
   ],
   "source": [
    "a = 4\n",
    "for i in range(a + 1, 0, -1):\n",
    "    for j in range(0, i - 1):\n",
    "        print(\"*\", end=' ')\n",
    "    print(\"\\n \")"
   ]
  },
  {
   "cell_type": "markdown",
   "id": "ac7ebc69-274e-46b7-b0e8-3002d7c24d35",
   "metadata": {},
   "source": [
    "# 21.\tWrite a program to accept an integer from the user and display all the numbers from 1 to that number. Repeat the process until the user enters 0."
   ]
  },
  {
   "cell_type": "code",
   "execution_count": null,
   "id": "109471dc-7950-4941-970e-f407d61891ff",
   "metadata": {},
   "outputs": [],
   "source": [
    "print(\"Input some integers to calculate their sum and average. Input 0 to exit.\")\n",
    "count = 0\n",
    "num = 1\n",
    "while num != 0:\n",
    "      for i in num:\n",
    "\t    num = int(input(\"\"))\n",
    "         print(i)\n",
    "    count += 1\n",
    "print(\"the number:\",num)\n",
    "\t"
   ]
  },
  {
   "cell_type": "code",
   "execution_count": null,
   "id": "acb98910-4bbd-4431-bfed-055a5cae724b",
   "metadata": {},
   "outputs": [],
   "source": []
  }
 ],
 "metadata": {
  "kernelspec": {
   "display_name": "Python 3 (ipykernel)",
   "language": "python",
   "name": "python3"
  },
  "language_info": {
   "codemirror_mode": {
    "name": "ipython",
    "version": 3
   },
   "file_extension": ".py",
   "mimetype": "text/x-python",
   "name": "python",
   "nbconvert_exporter": "python",
   "pygments_lexer": "ipython3",
   "version": "3.10.6"
  }
 },
 "nbformat": 4,
 "nbformat_minor": 5
}
